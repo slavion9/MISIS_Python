{
 "cells": [
  {
   "cell_type": "markdown",
   "id": "c5ec3b93",
   "metadata": {},
   "source": [
    "# Домашнее задание № 3"
   ]
  },
  {
   "cell_type": "markdown",
   "id": "83066746",
   "metadata": {},
   "source": [
    "## Обычные задания"
   ]
  },
  {
   "cell_type": "markdown",
   "id": "fded4a5c",
   "metadata": {},
   "source": [
    "### 1) Напишите функцию, извлекающую корень n-й степени из числа x. По умолчанию def будет извлекать квадратный корень:"
   ]
  },
  {
   "cell_type": "code",
   "execution_count": 4,
   "id": "1628015a",
   "metadata": {},
   "outputs": [
    {
     "name": "stdout",
     "output_type": "stream",
     "text": [
      "Введите x и n:\n",
      "256\n",
      "8\n",
      "Корень - 2.0\n"
     ]
    }
   ],
   "source": [
    "def root(x, n=2):\n",
    "    return x**(1/n)\n",
    "\n",
    "print(\"Введите x и n:\")\n",
    "try:\n",
    "    x = float(input())\n",
    "    n = int(input())\n",
    "    print(\"Корень -\", root(x, n))\n",
    "except Exception:\n",
    "    print(\"Числа введены неверно\")\n"
   ]
  },
  {
   "cell_type": "markdown",
   "id": "d7cf6761",
   "metadata": {},
   "source": [
    "### 2) Перепишите ваш код для проверки расширения из прошлого ДЗ в функцию которая принимает список расширений и имя файла"
   ]
  },
  {
   "cell_type": "code",
   "execution_count": 5,
   "id": "b49f2e4b",
   "metadata": {},
   "outputs": [
    {
     "name": "stdout",
     "output_type": "stream",
     "text": [
      "Введите название файла:\n",
      "Моя диссертац.gif.png\n",
      "Введите список расширений:\n",
      "['png', 'jpg', 'jpeg', 'gif', 'svg']\n",
      "Расширение присутствует в списке\n"
     ]
    }
   ],
   "source": [
    "def extentionCheck(name, ext):\n",
    "    if name.split('.')[-1] in ext:\n",
    "        return True\n",
    "    else:\n",
    "        return False\n",
    "\n",
    "print(\"Введите название файла:\")\n",
    "file = input()\n",
    "print(\"Введите список расширений:\")\n",
    "extensions = input()\n",
    "if extentionCheck(file, extensions):\n",
    "    print(\"Расширение присутствует в списке\")\n",
    "else:\n",
    "    print(\"Расширение отсутствует в списке\")\n"
   ]
  },
  {
   "cell_type": "markdown",
   "id": "2d6c4ba7",
   "metadata": {},
   "source": [
    "### 3) Слейте воедино три словаря"
   ]
  },
  {
   "cell_type": "code",
   "execution_count": 6,
   "id": "39f0e8a1",
   "metadata": {},
   "outputs": [
    {
     "data": {
      "text/plain": [
       "{1: 10, 2: 20, 3: 30, 4: 40, 5: 50, 6: 60}"
      ]
     },
     "execution_count": 6,
     "metadata": {},
     "output_type": "execute_result"
    }
   ],
   "source": [
    "dict_a = {1:10, 2:20}\n",
    "dict_b = {3:30, 4:40}\n",
    "dict_c = {5:50, 6:60}\n",
    "\n",
    "dict_a.update(dict_b)\n",
    "dict_a.update(dict_c)\n",
    "\n",
    "dict_a"
   ]
  },
  {
   "cell_type": "markdown",
   "id": "73d03688",
   "metadata": {},
   "source": [
    "### 4) Напишите функцию которая будет складывать цифры внутри числа"
   ]
  },
  {
   "cell_type": "code",
   "execution_count": 7,
   "id": "16d26468",
   "metadata": {},
   "outputs": [
    {
     "name": "stdout",
     "output_type": "stream",
     "text": [
      "Введите число:\n",
      "-123\n",
      "Сумма цифр:  6\n"
     ]
    }
   ],
   "source": [
    "def sumX(x):\n",
    "    sum = 0\n",
    "    while x:\n",
    "        sum += x % 10\n",
    "        x //= 10\n",
    "    return sum\n",
    "\n",
    "print(\"Введите число:\")\n",
    "try:\n",
    "    x = abs(int(input()))\n",
    "    print(\"Сумма цифр: \", sumX(x))\n",
    "except Exception:\n",
    "    print(\"Число введено неверно\")\n"
   ]
  },
  {
   "cell_type": "markdown",
   "id": "7019f813",
   "metadata": {},
   "source": [
    "### 3) Нужно проверить, все ли числа в последовательности уникальны."
   ]
  },
  {
   "cell_type": "code",
   "execution_count": 9,
   "id": "05428e60",
   "metadata": {},
   "outputs": [
    {
     "name": "stdout",
     "output_type": "stream",
     "text": [
      "Введите список чисел:\n",
      "4 4 5 6\n",
      "В списке есть повторяющиеся числа\n"
     ]
    }
   ],
   "source": [
    "def uniqueCheck(num):\n",
    "    while len(num):\n",
    "        x = num.pop()\n",
    "        if x in num:\n",
    "            return False\n",
    "    return True\n",
    "\n",
    "print(\"Введите список чисел:\")\n",
    "try:\n",
    "    numbers = input().split()\n",
    "    if uniqueCheck(numbers):\n",
    "        print(\"В списке нет повторяющихся чисел\")\n",
    "    else:\n",
    "        print(\"В списке есть повторяющиеся числа\")\n",
    "except Exception:\n",
    "    print(\"Список чисел введён с ошибкой\")\n"
   ]
  },
  {
   "cell_type": "markdown",
   "id": "43e49803",
   "metadata": {},
   "source": [
    "### 4) Создать функцию, которая просто печатает все элементы заданного ей списка:\n",
    "\n",
    " НОМЕР J --> ЗНАЧЕНИЕ\n",
    " \n",
    " НОМЕР K --> ЗНАЧЕНИЕ\n",
    " \n",
    "J, K — порядковые номера в списке`"
   ]
  },
  {
   "cell_type": "code",
   "execution_count": 16,
   "id": "5ea8fabd",
   "metadata": {},
   "outputs": [
    {
     "name": "stdout",
     "output_type": "stream",
     "text": [
      "0  --> я\n",
      "1  --> не\n",
      "2  --> в\n",
      "3  --> отпуск\n"
     ]
    }
   ],
   "source": [
    "def print_list(my_list):\n",
    "    i = 0\n",
    "    for str in my_list:\n",
    "        print(i,\" -->\", str)\n",
    "        i += 1\n",
    "    pass\n",
    "\n",
    "print_list([\"я\", \"не\", \"в\", \"отпуск\" ])"
   ]
  },
  {
   "cell_type": "markdown",
   "id": "626a8873",
   "metadata": {},
   "source": [
    "Создать функцию, которая печатает каждый элемент словарика\n",
    "\n",
    "КЛЮЧ <> --> ЗНАЧЕНИЕ\n",
    "    \n",
    "КЛЮЧ <> --> ЗНАЧЕНИЕ\n",
    "    \n",
    "J, K — ключи словарика"
   ]
  },
  {
   "cell_type": "code",
   "execution_count": 17,
   "id": "9e9345dc",
   "metadata": {},
   "outputs": [
    {
     "name": "stdout",
     "output_type": "stream",
     "text": [
      "key1  -->  2\n",
      "key3  -->  False\n",
      "Приветствие  -->  Hello\n"
     ]
    }
   ],
   "source": [
    "def print_dict(my_dict):\n",
    "    for str in my_dict:\n",
    "        print(str,\" --> \", my_dict[str])\n",
    "    pass\n",
    "\n",
    "print_dict({\"key1\": 2, \"key3\": False, \"Приветствие\": \"Hello\"})"
   ]
  },
  {
   "cell_type": "markdown",
   "id": "3ea3bc44",
   "metadata": {},
   "source": [
    "Сделать функцию, которая использует две уже написанные функции следующим образом:\n",
    "\n",
    "если ЗНАЧЕНИЕ это LIST --> вызывается print_list\n",
    "\n",
    "если ЗНАЧЕНИЕ это DICT --> вызывается print_dict\n",
    "\n",
    "во всех других случаях просто выводится ЗНАЧЕНИЕ"
   ]
  },
  {
   "cell_type": "code",
   "execution_count": 20,
   "id": "101c36e9",
   "metadata": {},
   "outputs": [
    {
     "name": "stdout",
     "output_type": "stream",
     "text": [
      "1\n",
      "0  --> 1\n",
      "1  --> 2\n",
      "2  --> 3\n",
      "3  --> 4\n",
      "Hello\n",
      "ciao  -->  Mondo\n",
      "Привет  -->  О дивный мир\n"
     ]
    }
   ],
   "source": [
    "def print_overlord(mydict):\n",
    "    for el in mydict:\n",
    "        if isinstance(mydict[el], list):\n",
    "            print_list(mydict[el])\n",
    "        elif isinstance(mydict[el], dict):\n",
    "            print_dict(mydict[el])\n",
    "        else:\n",
    "            print(mydict[el])\n",
    "    pass\n",
    "\n",
    "print_overlord(dict(key1=1,\n",
    "            key2=[1, 2, 3, 4],\n",
    "            key3='Hello',\n",
    "            key4={\"ciao\":\"Mondo\", \"Привет\": \"О дивный мир\"}))\n"
   ]
  },
  {
   "cell_type": "markdown",
   "id": "f58e0f69",
   "metadata": {},
   "source": [
    "## Задачи со звездочкой"
   ]
  },
  {
   "cell_type": "markdown",
   "id": "ce3dda8e",
   "metadata": {},
   "source": [
    "### 1) Сделать функцию, которая на вход получает фразу и печатает все отдельные слова из этой фразы. \n",
    "\n",
    "OUTPUT: \n",
    "Word1 \n",
    "Word2 \n",
    ". . . \n",
    "WordN \n",
    "Number or Words: X"
   ]
  },
  {
   "cell_type": "code",
   "execution_count": 22,
   "id": "8a5adaae",
   "metadata": {},
   "outputs": [
    {
     "name": "stdout",
     "output_type": "stream",
     "text": [
      "Тут\n",
      "фраза\n",
      "с\n",
      "пробелами\n",
      "и\n",
      "я\n",
      "хочу\n",
      "их\n",
      "распечатать\n",
      "по\n",
      "одному\n",
      "на\n",
      "строку\n",
      "и\n",
      "ещё\n",
      "посчитать\n",
      "слова\n",
      "Number or Words: 17\n"
     ]
    }
   ],
   "source": [
    "def word_count(phrase):\n",
    "    for str in phrase.split():\n",
    "        print(str)\n",
    "    print(\"Number or Words:\", len(phrase.split()))\n",
    "    pass\n",
    "\n",
    "word_count(\"Тут фраза с пробелами и я хочу их распечатать по одному на строку и ещё посчитать слова\")"
   ]
  },
  {
   "cell_type": "markdown",
   "id": "f75d0717",
   "metadata": {},
   "source": [
    "### 2)  Модифицировать функцию из предыдущего задания так, чтобы она считала \"вес\" каждого слова, выводя в процентное соотношение во фразе для каждого слова. \n",
    "\n",
    "Проценты печатать с точностью до 2 знаков после запятой."
   ]
  },
  {
   "cell_type": "code",
   "execution_count": 29,
   "id": "cc058173",
   "metadata": {},
   "outputs": [
    {
     "name": "stdout",
     "output_type": "stream",
     "text": [
      "Фраза --> 41.67 %\n",
      "короче --> 50.0 %\n",
      "Number or Words: 2\n"
     ]
    }
   ],
   "source": [
    "def word_count(phrase):\n",
    "    for str in phrase.split():\n",
    "        print(str, \"-->\", round((len(str)/len(phrase)), 4)*100, \"%\")\n",
    "    print(\"Number or Words:\", len(phrase.split()))\n",
    "    pass\n",
    "\n",
    "word_count(\"Фраза короче\")\n"
   ]
  }
 ],
 "metadata": {
  "kernelspec": {
   "display_name": "Python 3 (ipykernel)",
   "language": "python",
   "name": "python3"
  },
  "language_info": {
   "codemirror_mode": {
    "name": "ipython",
    "version": 3
   },
   "file_extension": ".py",
   "mimetype": "text/x-python",
   "name": "python",
   "nbconvert_exporter": "python",
   "pygments_lexer": "ipython3",
   "version": "3.9.15"
  }
 },
 "nbformat": 4,
 "nbformat_minor": 5
}
