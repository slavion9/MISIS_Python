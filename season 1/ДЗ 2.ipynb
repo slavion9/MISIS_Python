{
 "cells": [
  {
   "cell_type": "markdown",
   "id": "e7516c41",
   "metadata": {},
   "source": [
    "# Домашнее задание № 2"
   ]
  },
  {
   "cell_type": "markdown",
   "id": "63b69bb8",
   "metadata": {},
   "source": [
    "## Обычные задания"
   ]
  },
  {
   "cell_type": "markdown",
   "id": "d239bed1",
   "metadata": {},
   "source": [
    "### 1) Какой месяц"
   ]
  },
  {
   "cell_type": "code",
   "execution_count": 3,
   "id": "4ceafd04",
   "metadata": {},
   "outputs": [
    {
     "name": "stdout",
     "output_type": "stream",
     "text": [
      "Введите месяц (1-12):\n",
      "11\n",
      "Выбранный месяц: Ноябрь\n"
     ]
    }
   ],
   "source": [
    "print(\"Введите месяц (1-12):\")\n",
    "months = ['Январь', 'Февраль', 'Март', 'Апрель', 'Май', 'Июнь', 'Июль',\n",
    "          'Август', 'Сентябрь', 'Октябрь', 'Ноябрь', 'Декабрь']\n",
    "try:\n",
    "    select = int(input())\n",
    "    print(\"Выбранный месяц: \" + months[select-1])\n",
    "except Exception:\n",
    "    print(\"Месяц введён неверно!\")\n"
   ]
  },
  {
   "cell_type": "markdown",
   "id": "30ab9d1e",
   "metadata": {},
   "source": [
    "### 2) Наибольший общий делитель"
   ]
  },
  {
   "cell_type": "code",
   "execution_count": 13,
   "id": "f29281b2",
   "metadata": {},
   "outputs": [
    {
     "name": "stdout",
     "output_type": "stream",
     "text": [
      "Введите два числа:\n",
      "128\n",
      "96\n",
      "НОД:  32\n"
     ]
    }
   ],
   "source": [
    "try:\n",
    "    print(\"Введите два числа:\")\n",
    "    a = int(input())\n",
    "    b = int(input())\n",
    "    while a != 0 and b != 0:\n",
    "        if a >= b:\n",
    "            a %= b\n",
    "        else:\n",
    "            b %= a\n",
    "    gcd = a or b\n",
    "    print(\"НОД: \", gcd)\n",
    "except Exception:\n",
    "    print(\"НОД не может быть найден\")\n"
   ]
  },
  {
   "cell_type": "markdown",
   "id": "8533bffa",
   "metadata": {},
   "source": [
    "### 3) Проверка расширения файла"
   ]
  },
  {
   "cell_type": "code",
   "execution_count": 7,
   "id": "5911bc57",
   "metadata": {},
   "outputs": [
    {
     "name": "stdout",
     "output_type": "stream",
     "text": [
      "Расширение присутствует в списке\n"
     ]
    }
   ],
   "source": [
    "file='Моя диссертац.gif'\n",
    "extensions = ['png', 'jpg', 'jpeg', 'gif', 'svg']\n",
    "\n",
    "if file.split('.')[-1] in extensions:\n",
    "    print(\"Расширение присутствует в списке\")\n",
    "else:\n",
    "    print(\"Расширение отсутствует в списке\")\n"
   ]
  },
  {
   "cell_type": "markdown",
   "id": "255f8e8c",
   "metadata": {},
   "source": [
    "### 4) Високосный год"
   ]
  },
  {
   "cell_type": "code",
   "execution_count": 14,
   "id": "159d677c",
   "metadata": {},
   "outputs": [
    {
     "name": "stdout",
     "output_type": "stream",
     "text": [
      "Введите год: 2022\n",
      "Невисокосный год\n"
     ]
    }
   ],
   "source": [
    "try:\n",
    "    year = int(input('Введите год: '))\n",
    "    if (year % 4 == 0):\n",
    "        print('Високосный год')\n",
    "    else:\n",
    "        print('Невисокосный год')\n",
    "except Exception:\n",
    "    print(\"Год введён неверно\")"
   ]
  }
 ],
 "metadata": {
  "kernelspec": {
   "display_name": "Python 3 (ipykernel)",
   "language": "python",
   "name": "python3"
  },
  "language_info": {
   "codemirror_mode": {
    "name": "ipython",
    "version": 3
   },
   "file_extension": ".py",
   "mimetype": "text/x-python",
   "name": "python",
   "nbconvert_exporter": "python",
   "pygments_lexer": "ipython3",
   "version": "3.9.15"
  }
 },
 "nbformat": 4,
 "nbformat_minor": 5
}
