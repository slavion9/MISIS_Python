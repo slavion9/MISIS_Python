{
 "cells": [
  {
   "cell_type": "markdown",
   "id": "8d0723e6",
   "metadata": {},
   "source": [
    "#  Домашнее задание № 4"
   ]
  },
  {
   "cell_type": "markdown",
   "id": "f56dd3f6",
   "metadata": {},
   "source": [
    "## Обычные задания"
   ]
  },
  {
   "cell_type": "markdown",
   "id": "a3129f99",
   "metadata": {},
   "source": [
    "### 1) Средний бал и список отстающих учеников"
   ]
  },
  {
   "cell_type": "code",
   "execution_count": 2,
   "id": "1114fb40",
   "metadata": {},
   "outputs": [
    {
     "name": "stdout",
     "output_type": "stream",
     "text": [
      "Список неуспевающих студентов:\n",
      "Дмитриев Н. 2\n",
      "Котов Д. 2\n",
      "Бирюкова Н. 1\n",
      "Лемонов Ю. 2\n",
      "\n",
      "Средний балл:  3.1818181818181817\n"
     ]
    }
   ],
   "source": [
    "with open(\"Students.txt\", 'r', encoding='utf8') as f:\n",
    "    count = 0\n",
    "    average = 0\n",
    "    list = f.read().split('\\n')\n",
    "    print(\"Список неуспевающих студентов:\")\n",
    "    for str in list:\n",
    "        count += 1\n",
    "        student = str.split()\n",
    "        average += int(student[-1])\n",
    "        if int(student[-1]) < 3:\n",
    "            print(\" \".join(student[0:-1]), student[-1])\n",
    "    average/=count\n",
    "    print(\"\\nСредний балл: \", average)"
   ]
  },
  {
   "cell_type": "markdown",
   "id": "313badb6",
   "metadata": {},
   "source": [
    "Исходный файл:"
   ]
  },
  {
   "cell_type": "markdown",
   "id": "d4ea8caa",
   "metadata": {},
   "source": [
    "### 2) Посчитать количество определенных слов в файле"
   ]
  },
  {
   "cell_type": "code",
   "execution_count": 3,
   "id": "8e63a359",
   "metadata": {
    "scrolled": true
   },
   "outputs": [
    {
     "name": "stdout",
     "output_type": "stream",
     "text": [
      "Лекций: 6\n",
      "Практических: 5\n",
      "Лабораторных: 4\n"
     ]
    }
   ],
   "source": [
    "with open(\"Shedule.txt\", 'r', encoding='utf8') as f:\n",
    "    str = f.read()\n",
    "    lec = str.count(\"лекц.\")\n",
    "    pract = str.count(\"практ.\")\n",
    "    lab = str.count(\"лаб.\")\n",
    "    print('Лекций:', lec)\n",
    "    print('Практических:', pract)\n",
    "    print('Лабораторных:', lab)"
   ]
  },
  {
   "cell_type": "markdown",
   "id": "7010e353",
   "metadata": {},
   "source": [
    "Исходный файл:"
   ]
  },
  {
   "cell_type": "code",
   "execution_count": 6,
   "id": "a29ff31a",
   "metadata": {},
   "outputs": [
    {
     "name": "stdout",
     "output_type": "stream",
     "text": [
      "Понедельник\n",
      "\tФизика (лекц.)\n",
      "\tФизика (лаб.)\n",
      "\tАлгебра (практ.)\n",
      " \n",
      "Вторник\n",
      "\tГеометрия (лекц.)\n",
      "\tФизика (практ.)\n",
      "\tФизика (лаб.)\n",
      "\tФизкультура (практик.)\n",
      "Среда\n",
      "\tГеометрия (лекц.)\n",
      "\tАлгебра (практ.)\n",
      "\tФизкультура (лекц.)\n",
      "Четверг\n",
      "\tХимия (лекц.)\n",
      "\tИЗО (практ.)\n",
      "\tРусский (лаб.)\n",
      "\tФизкультура (практик.)\n",
      "Пятница\n",
      "\tГеометрия (лекц.)\n",
      "\tРиторика (практ.)\n",
      "\tИнформатика (лаб.)\n",
      "\tФизкультура (практик.)\n"
     ]
    }
   ],
   "source": [
    "with open(\"Shedule.txt\", 'r', encoding='utf8') as f:\n",
    "    print(\"\\n\".join(f.read().split('\\n')))"
   ]
  },
  {
   "cell_type": "markdown",
   "id": "8e184fb8",
   "metadata": {},
   "source": [
    "### 4) Выведите список файлов в указанной директории. например где у вас лежат ваши тетради"
   ]
  },
  {
   "cell_type": "code",
   "execution_count": 30,
   "id": "dba80be3",
   "metadata": {
    "scrolled": true
   },
   "outputs": [
    {
     "name": "stdout",
     "output_type": "stream",
     "text": [
      "Shedule.txt\n",
      "Students.txt\n",
      "ДЗ 1.ipynb\n",
      "ДЗ 2.ipynb\n",
      "ДЗ 3.ipynb\n",
      "ДЗ 4.ipynb\n"
     ]
    }
   ],
   "source": [
    "import os\n",
    "\n",
    "list_dir = os.listdir('./')\n",
    "for name in list_dir:\n",
    "    if os.path.isfile('./'+name):\n",
    "        print(name)"
   ]
  },
  {
   "cell_type": "markdown",
   "id": "61f585fa",
   "metadata": {},
   "source": [
    "### 5) Напишите программу, которая принимает текст и выводит два слова: наиболее часто встречающееся и самое длинное."
   ]
  },
  {
   "cell_type": "markdown",
   "id": "ab46238f",
   "metadata": {},
   "source": [
    "Исходный файл:"
   ]
  },
  {
   "cell_type": "code",
   "execution_count": 47,
   "id": "fdaa1ddf",
   "metadata": {},
   "outputs": [
    {
     "name": "stdout",
     "output_type": "stream",
     "text": [
      "Варкалось. Хливкие шорьки Пырялись по наве, И хрюкотали зелюки, Как мюмзики в мове.\n",
      "\n",
      "О, бойся Бармаглота, сын! Он так свирлеп и дик! А в глу́ше ры́мит исполин — Злопастный Брандашмыг!\n",
      "\n",
      "Но взял он меч, и взял он щит, Высоких полон дум. В глущобу путь его лежит Под дерево Тумтум.\n",
      "\n",
      "Он стал под дерево и ждёт. И вдруг граахнул гром — Летит ужасный Бармаглот И пылкает огнём!\n",
      "\n",
      "Раз-два, раз-два! Горит трава, Взы-взы — стрижает меч, Ува! Ува! И голова Барабардает с плеч!\n",
      "\n",
      "О светозарный мальчик мой! Ты победил в бою! О храброславленный герой, Хвалу тебе пою!\n",
      "\n",
      "Варкалось. Хливкие шорьки Пырялись по наве. И хрюкотали зелюки, Как мюмзики в мове.\n"
     ]
    }
   ],
   "source": [
    "with open(\"Some_text.txt\", 'r', encoding='utf8') as f:\n",
    "    print(\"\\n\".join(f.read().split('\\n')))"
   ]
  },
  {
   "cell_type": "code",
   "execution_count": 1,
   "id": "e621b92f",
   "metadata": {},
   "outputs": [
    {
     "name": "stdout",
     "output_type": "stream",
     "text": [
      "Наиболее длинное слово -  храброславленный\n",
      "Набольшее число повторений -  8\n",
      "Наиболее часто встречающиеся слова:\n",
      "и\n"
     ]
    }
   ],
   "source": [
    "import re\n",
    "\n",
    "with open('Some_text.txt', \"r\", encoding=\"UTF-8\") as f:\n",
    "    tokens = re.sub(r'[^\\w\\s]','', f.read()).lower().split()\n",
    "    counts = {}\n",
    "    for token in tokens:\n",
    "            if token in counts.keys():\n",
    "                counts[token] += 1\n",
    "            else:\n",
    "                counts[token] = 1\n",
    "    print(\"Наиболее длинное слово - \",max(counts, key=len))\n",
    "    max_count = max(counts.values())\n",
    "    print(\"Набольшее число повторений - \", max_count)\n",
    "    print(\"Наиболее часто встречающиеся слова:\")\n",
    "    for i in counts:\n",
    "        if counts[i] == max_count:\n",
    "            print(i)\n"
   ]
  },
  {
   "cell_type": "code",
   "execution_count": null,
   "id": "740f9d96",
   "metadata": {},
   "outputs": [],
   "source": []
  }
 ],
 "metadata": {
  "kernelspec": {
   "display_name": "Python 3 (ipykernel)",
   "language": "python",
   "name": "python3"
  },
  "language_info": {
   "codemirror_mode": {
    "name": "ipython",
    "version": 3
   },
   "file_extension": ".py",
   "mimetype": "text/x-python",
   "name": "python",
   "nbconvert_exporter": "python",
   "pygments_lexer": "ipython3",
   "version": "3.9.15"
  }
 },
 "nbformat": 4,
 "nbformat_minor": 5
}
