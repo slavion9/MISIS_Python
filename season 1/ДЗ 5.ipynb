{
 "cells": [
  {
   "cell_type": "markdown",
   "id": "729d0ad3",
   "metadata": {},
   "source": [
    "# Домашнее задание № 5"
   ]
  },
  {
   "cell_type": "markdown",
   "id": "e7c4d118",
   "metadata": {},
   "source": [
    "## Обычные задания"
   ]
  },
  {
   "cell_type": "markdown",
   "id": "6b793320",
   "metadata": {},
   "source": [
    "### 1) Напишите программу с классом Student, в котором есть три атрибута: name, groupNumber и age. По умолчанию name = Ivan, age = 18, groupNumber = 10A. Необходимо создать пять методов: getName, getAge, getGroupNumber, setNameAge, setGroupNumber. Метод getName нужен для получения данных об имени конкретного студента, метод getAge нужен для получения данных о возрасте конкретного студента, vетод setGroupNumberнужен для получения данных о номере группы конкретного студента. Метод SetNameAge позволяет изменить данные атрибутов установленных по умолчанию, метод setGroupNumber позволяет изменить номер группы установленный по умолчанию. В программе необходимо создать пять экземпляров класса Student, установить им разные имена, возраст и номер группы.\n",
    "\n"
   ]
  },
  {
   "cell_type": "code",
   "execution_count": 29,
   "id": "c35d3938",
   "metadata": {},
   "outputs": [
    {
     "name": "stdout",
     "output_type": "stream",
     "text": [
      "ФИО: Степанов В.О.\n",
      "Группа: МИСТ 22-2-2\n",
      "Возраст: 22\n",
      "\n",
      "ФИО: Алексеенко Д.А.\n",
      "Группа: МИСТ 22-2-1\n",
      "Возраст: 22\n",
      "\n",
      "ФИО: Алекссеев Д.В.\n",
      "Группа: БСБО-01-18\n",
      "Возраст: 22\n",
      "\n",
      "ФИО: Казанцев Д.С.\n",
      "Группа: БСБО-01-18\n",
      "Возраст: 22\n",
      "\n",
      "ФИО: Сутугин М.В.\n",
      "Группа: БСБО-01-18\n",
      "Возраст: 22\n",
      "\n"
     ]
    }
   ],
   "source": [
    "class Student: \n",
    "    def __init__(self, name, groupNumber, age):\n",
    "        self.__name = name\n",
    "        self.__groupNumber = groupNumber\n",
    "        self.__age = age\n",
    "    \n",
    "    def getName(self):\n",
    "        return self.__name\n",
    "    \n",
    "    def getAge(self): \n",
    "        return self.__age\n",
    "\n",
    "    def getGroupNumber(self):\n",
    "        return self.__groupNumber\n",
    "    \n",
    "    def setGroupNumber(self, groupNumber):\n",
    "        self.__groupNumber = groupNumber\n",
    "        return self.__groupNumber\n",
    "    \n",
    "    def setNameAge(self, name, age):\n",
    "        self.__name = name\n",
    "        self.__age = age\n",
    "        return self.__name, self.__age\n",
    "     \n",
    "    def __str__(self):\n",
    "        return f'ФИО: {self.getName()}\\nГруппа: {self.getGroupNumber()}\\nВозраст: {s.getAge()}\\n'\n",
    "\n",
    "    \n",
    "\n",
    "def main():\n",
    "    student_list = []\n",
    "    student_list.append(Student('Степанов В.О.', 'МИСТ 22-2-2', 22))\n",
    "    student_list.append(Student('Алексеенко Д.А.', 'МИСТ 22-2-1', 21))\n",
    "    student_list.append(Student('Алекссеев Д.В.', 'БСБО-01-18', 22))\n",
    "    student_list.append(Student('Казанцев Д.С.', 'БСБО-01-18', 21))\n",
    "    student_list.append(Student('-', '-', 0))\n",
    "\n",
    "    student_list[4].setNameAge('Сутугин М.В.', 22)\n",
    "    student_list[4].setGroupNumber('БСБО-01-18')\n",
    "\n",
    "    for s in student_list:\n",
    "        print(s)\n",
    "\n",
    "if __name__ == '__main__':\n",
    "    main()\n",
    "    \n"
   ]
  },
  {
   "cell_type": "markdown",
   "id": "9b897b30",
   "metadata": {},
   "source": [
    "### 2) Hапишите программу с классом Car. Создайте конструктор класса Car. Создайте атрибуты класса Car — color (цвет), type (тип), year (год). Напишите пять методов. Первый — запуск автомобиля, при его вызове выводится сообщение «Автомобиль заведен». Второй — отключение автомобиля — выводит сообщение «Автомобиль заглушен». Третий — присвоение автомобилю года выпуска. Четвертый метод — присвоение автомобилю типа. Пятый — присвоение автомобилю цвета."
   ]
  },
  {
   "cell_type": "code",
   "execution_count": 74,
   "id": "eb40c2cc",
   "metadata": {},
   "outputs": [
    {
     "name": "stdout",
     "output_type": "stream",
     "text": [
      "Автомобиль заведён\n",
      "Автомобиль уже был заведён!\n",
      "\n",
      "  -  Цвет машины: Красная\n",
      "  -  Тип машины: Кабриолет\n",
      "  -  Год выпуска: 2022\n",
      "  -  Машина заведена: True\n",
      "\n",
      "Автомобиль заглушен\n",
      "Автомобиль уже был заглушен!\n",
      "\n",
      "  -  Цвет машины: Красная\n",
      "  -  Тип машины: Кабриолет\n",
      "  -  Год выпуска: 2022\n",
      "  -  Машина заведена: False\n",
      "\n"
     ]
    }
   ],
   "source": [
    "\n",
    "class Car:\n",
    "    def __init__(self, color='', carType='', year=0):\n",
    "        self.__color = color\n",
    "        self.__carType = carType\n",
    "        self.__year = year\n",
    "        self.__isStarted = False\n",
    "      \n",
    "    def car_started(start):\n",
    "        def action(self):\n",
    "            if self.__isStarted:\n",
    "                print('Автомобиль уже был заведён!')\n",
    "            else:\n",
    "                start(self)\n",
    "                print('Автомобиль заведён')\n",
    "        return action\n",
    "    \n",
    "    def car_stopped(stop):\n",
    "        def action(self):\n",
    "            if self.__isStarted:\n",
    "                stop(self)\n",
    "                print('Автомобиль заглушен')                \n",
    "            else:\n",
    "                print('Автомобиль уже был заглушен!')\n",
    "        return action\n",
    "    \n",
    "    \n",
    "    @car_started\n",
    "    def start(self):\n",
    "        self.__isStarted = True\n",
    "        return self\n",
    "    \n",
    "    @car_stopped\n",
    "    def stop(self):\n",
    "        self.__isStarted = False\n",
    "        return self\n",
    "    \n",
    "    def setYear(self, year):\n",
    "        self.__year = year\n",
    "        return self\n",
    "    \n",
    "    def setType(self, carType):\n",
    "        self.__carType = carType\n",
    "        return self\n",
    "    \n",
    "    def setColor(self, color):\n",
    "        self.__color = color\n",
    "        return self\n",
    "    \n",
    "    def __str__(self):\n",
    "        return f'''\n",
    "  -  Цвет машины: {self.__color}\n",
    "  -  Тип машины: {self.__carType}\n",
    "  -  Год выпуска: {self.__year}\n",
    "  -  Машина заведена: {self.__isStarted}\\n'''\n",
    "  \n",
    "\n",
    "def main():\n",
    "    car = Car().setColor('Красная').setType('Кабриолет').setYear(2022)\n",
    "    car.start()\n",
    "    car.start()\n",
    "    print(car)\n",
    "    car.stop()\n",
    "    car.stop()\n",
    "    print(car)\n",
    "\n",
    "if __name__ == '__main__':\n",
    "    main()"
   ]
  }
 ],
 "metadata": {
  "kernelspec": {
   "display_name": "Python 3 (ipykernel)",
   "language": "python",
   "name": "python3"
  },
  "language_info": {
   "codemirror_mode": {
    "name": "ipython",
    "version": 3
   },
   "file_extension": ".py",
   "mimetype": "text/x-python",
   "name": "python",
   "nbconvert_exporter": "python",
   "pygments_lexer": "ipython3",
   "version": "3.9.15"
  }
 },
 "nbformat": 4,
 "nbformat_minor": 5
}
