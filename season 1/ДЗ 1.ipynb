{
 "cells": [
  {
   "cell_type": "markdown",
   "id": "c653b454",
   "metadata": {},
   "source": [
    "# Домашнее задание №1"
   ]
  },
  {
   "cell_type": "markdown",
   "id": "0e2e799d",
   "metadata": {},
   "source": [
    "## Обычные задания"
   ]
  },
  {
   "cell_type": "markdown",
   "id": "a4d2f413",
   "metadata": {},
   "source": [
    "### 1) Сделайте так, чтобы число секунд отображалось в виде дни:часы:минуты:секунды."
   ]
  },
  {
   "cell_type": "code",
   "execution_count": 1,
   "id": "a8ea6fcc",
   "metadata": {},
   "outputs": [
    {
     "name": "stdout",
     "output_type": "stream",
     "text": [
      "0:2:46:40\n"
     ]
    }
   ],
   "source": [
    "seconds = 10000\n",
    "min = (seconds // 60) % 60\n",
    "hours = (seconds // (60*60)) % 24\n",
    "days = seconds // (24*60*60)\n",
    "seconds %= 60\n",
    "print(days, hours, min, seconds, sep=\":\")\n"
   ]
  },
  {
   "cell_type": "markdown",
   "id": "1b82228b",
   "metadata": {},
   "source": [
    "### 2) Напишите калькулятор который запрашивает на входе две переменные и знак, и в соответствии с знаком ( + - * / ) выводит результат"
   ]
  },
  {
   "cell_type": "code",
   "execution_count": 34,
   "id": "36609edc",
   "metadata": {
    "scrolled": false
   },
   "outputs": [
    {
     "name": "stdout",
     "output_type": "stream",
     "text": [
      "Введите две переменные:\n",
      "123\n",
      "0\n",
      "Введите знак (+, -, *, /):\n",
      "/\n",
      "На 0 делить нельзя!\n"
     ]
    }
   ],
   "source": [
    "print(\"Введите две переменные:\")\n",
    "a = input()\n",
    "b = input()\n",
    "print(\"Введите знак (+, -, *, /):\")\n",
    "sign = input()\n",
    "if sign == '+':\n",
    "    print(a+b)\n",
    "else:\n",
    "    try:\n",
    "        if sign == '-':\n",
    "            print(float(a)-float(b))\n",
    "        elif sign == '*':\n",
    "            try:\n",
    "                print(float(a)*float(b))\n",
    "            except Exception:\n",
    "                print(a*int(b))\n",
    "        elif sign == '/':\n",
    "            if float(b)==0:\n",
    "                print(\"На 0 делить нельзя!\")\n",
    "            else:\n",
    "                print(float(a)/float(b))\n",
    "        else:\n",
    "            print('Введенный знак не является допустимым!')\n",
    "    except Exception:\n",
    "        print(\"Данное действие не может быть выполнено\")\n"
   ]
  },
  {
   "cell_type": "markdown",
   "id": "3c31c757",
   "metadata": {},
   "source": [
    "### 3) Считайте 2 строки и выведите их на печать, разделив символом $."
   ]
  },
  {
   "cell_type": "code",
   "execution_count": 36,
   "id": "8d73223d",
   "metadata": {},
   "outputs": [
    {
     "name": "stdout",
     "output_type": "stream",
     "text": [
      "Введите две строки:\n",
      "Первая строка \n",
      " Вторая строка\n",
      "Первая строка $ Вторая строка\n",
      "Первая строка $ Вторая строка\n"
     ]
    }
   ],
   "source": [
    "print(\"Введите две строки:\")\n",
    "first = input()\n",
    "second = input()\n",
    "print(first+'$'+second)\n",
    "print(first, second, sep='$')"
   ]
  },
  {
   "cell_type": "markdown",
   "id": "9aada039",
   "metadata": {},
   "source": [
    "### 4) Напишите поздравление с Днем рождения, где программа считает имя и возраст и выведет поздравление столько раз, сколько лет именнинику\n"
   ]
  },
  {
   "cell_type": "code",
   "execution_count": 38,
   "id": "ccf7e5d3",
   "metadata": {},
   "outputs": [
    {
     "name": "stdout",
     "output_type": "stream",
     "text": [
      "Введите имя:\n",
      "Слава\n",
      "Введите возраст:\n",
      "5\n",
      "С днём рождения, Слава!\n",
      "С днём рождения, Слава!\n",
      "С днём рождения, Слава!\n",
      "С днём рождения, Слава!\n",
      "С днём рождения, Слава!\n",
      "\n"
     ]
    }
   ],
   "source": [
    "print(\"Введите имя:\")\n",
    "name = input()\n",
    "print(\"Введите возраст:\")\n",
    "try:\n",
    "    age = int(input())\n",
    "    print(('С днём рождения, '+name+\"!\\n\")*age)\n",
    "except Exception:\n",
    "    print(\"Возраст введён неверно\")\n"
   ]
  },
  {
   "cell_type": "code",
   "execution_count": null,
   "id": "74d5ff94",
   "metadata": {},
   "outputs": [],
   "source": []
  }
 ],
 "metadata": {
  "kernelspec": {
   "display_name": "Python 3 (ipykernel)",
   "language": "python",
   "name": "python3"
  },
  "language_info": {
   "codemirror_mode": {
    "name": "ipython",
    "version": 3
   },
   "file_extension": ".py",
   "mimetype": "text/x-python",
   "name": "python",
   "nbconvert_exporter": "python",
   "pygments_lexer": "ipython3",
   "version": "3.9.15"
  }
 },
 "nbformat": 4,
 "nbformat_minor": 5
}
